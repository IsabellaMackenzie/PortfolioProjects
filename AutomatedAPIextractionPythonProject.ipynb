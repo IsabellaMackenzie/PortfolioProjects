{
 "cells": [
  {
   "cell_type": "code",
   "execution_count": 9,
   "metadata": {},
   "outputs": [],
   "source": [
    "def api_runner():\n",
    "\n",
    "    from requests import Request, Session\n",
    "    from requests.exceptions import ConnectionError, Timeout, TooManyRedirects\n",
    "    import json\n",
    "\n",
    "    global df\n",
    "    # Original sandbox environment url = 'https://sandbox-api.coinmarketcap.com/v1/cryptocurrency/listings/latest'\n",
    "    url = 'https://pro-api.coinmarketcap.com/v1/cryptocurrency/listings/latest'\n",
    "    parameters = {\n",
    "    'start':'1',\n",
    "    'limit':'15',\n",
    "    'convert':'USD'\n",
    "    }\n",
    "    headers = {\n",
    "    'Accepts': 'application/json',\n",
    "    'X-CMC_PRO_API_KEY': 'MyPrivateAPIkeyWasHere',\n",
    "    }\n",
    "\n",
    "    session = Session()\n",
    "    session.headers.update(headers)\n",
    "\n",
    "    try:\n",
    "        response = session.get(url, params=parameters)\n",
    "        data = json.loads(response.text)\n",
    "        print(data)\n",
    "    except (ConnectionError, Timeout, TooManyRedirects) as e:\n",
    "        print(e)\n",
    "\n",
    "    #for only keeping data in the panda dataframe\n",
    "    #df2 = pd.json_normalize(data['data'])\n",
    "    #df2['timestamp'] = pd.Timestamp.now()\n",
    "    #df = df.append(df2)  ---deprecated append used in the video - concat used now\n",
    "    #df = pd.concat([df, df2])\n",
    "\n",
    "    import pandas as pd\n",
    "\n",
    "    # This allows you to see all the columns and rows\n",
    "\n",
    "    pd.set_option('display.max_columns', None)\n",
    "    pd.set_option('display.max_rows', None)\n",
    "\n",
    "    # This normalizes the data and converts it to a Pandas dataframe\n",
    "    \n",
    "    df = pd.json_normalize(data['data'])\n",
    "    #df['timestamp'] = pd.to_datetime('now') ---deprecated to_datetime used in the video - Timestamp.now used now\n",
    "    df['timestamp'] = pd.Timestamp.now()\n",
    "    df\n",
    "\n",
    "    import os\n",
    "\n",
    "    if not os.path.isfile(r'API.csv'):\n",
    "        df.to_csv(r'API.csv', header='column_names')\n",
    "    else:\n",
    "        df.to_csv(r'API.csv', mode='a', header=False)"
   ]
  },
  {
   "cell_type": "code",
   "execution_count": null,
   "metadata": {},
   "outputs": [],
   "source": [
    "import os \n",
    "from time import time\n",
    "from time import sleep\n",
    "\n",
    "for i in range(333):\n",
    "    api_runner()\n",
    "    print('API Runner completed')\n",
    "    sleep(60) #sleep for 1 minute\n",
    "exit()"
   ]
  },
  {
   "cell_type": "code",
   "execution_count": 5,
   "metadata": {},
   "outputs": [],
   "source": [
    "import pandas as pd\n"
   ]
  },
  {
   "cell_type": "code",
   "execution_count": null,
   "metadata": {},
   "outputs": [],
   "source": [
    "df72 = pd.read_csv(r'API.csv')\n",
    "df72"
   ]
  },
  {
   "cell_type": "code",
   "execution_count": null,
   "metadata": {},
   "outputs": [],
   "source": [
    "#Gget rid of the scientific notation\n",
    "\n",
    "pd.set_option('display.float', lambda x: '%.5f' % x)\n",
    "df72"
   ]
  },
  {
   "cell_type": "code",
   "execution_count": null,
   "metadata": {},
   "outputs": [],
   "source": [
    "# Now let's look at the coin trends over time\n",
    "\n",
    "df3 = df72.groupby('name', sort=False)[['quote.USD.percent_change_1h', 'quote.USD.percent_change_24h', 'quote.USD.percent_change_7d', 'quote.USD.percent_change_30d', 'quote.USD.percent_change_60d', 'quote.USD.percent_change_90d']].mean()\n",
    "df3"
   ]
  },
  {
   "cell_type": "code",
   "execution_count": 9,
   "metadata": {},
   "outputs": [
    {
     "data": {
      "text/plain": [
       "name                                 \n",
       "Bitcoin  quote.USD.percent_change_1h      0.09270\n",
       "         quote.USD.percent_change_24h    -5.92868\n",
       "         quote.USD.percent_change_7d    -13.31116\n",
       "         quote.USD.percent_change_30d   -11.00516\n",
       "         quote.USD.percent_change_60d   -17.80312\n",
       "                                           ...   \n",
       "TRON     quote.USD.percent_change_24h    -2.96625\n",
       "         quote.USD.percent_change_7d     -5.56995\n",
       "         quote.USD.percent_change_30d    -7.49334\n",
       "         quote.USD.percent_change_60d   -10.29644\n",
       "         quote.USD.percent_change_90d    -4.47369\n",
       "Length: 90, dtype: float64"
      ]
     },
     "execution_count": 9,
     "metadata": {},
     "output_type": "execute_result"
    }
   ],
   "source": [
    "df4 = df3.stack()\n",
    "df4"
   ]
  },
  {
   "cell_type": "code",
   "execution_count": 10,
   "metadata": {},
   "outputs": [
    {
     "data": {
      "text/html": [
       "<div>\n",
       "<style scoped>\n",
       "    .dataframe tbody tr th:only-of-type {\n",
       "        vertical-align: middle;\n",
       "    }\n",
       "\n",
       "    .dataframe tbody tr th {\n",
       "        vertical-align: top;\n",
       "    }\n",
       "\n",
       "    .dataframe thead th {\n",
       "        text-align: right;\n",
       "    }\n",
       "</style>\n",
       "<table border=\"1\" class=\"dataframe\">\n",
       "  <thead>\n",
       "    <tr style=\"text-align: right;\">\n",
       "      <th></th>\n",
       "      <th></th>\n",
       "      <th>values</th>\n",
       "    </tr>\n",
       "    <tr>\n",
       "      <th>name</th>\n",
       "      <th></th>\n",
       "      <th></th>\n",
       "    </tr>\n",
       "  </thead>\n",
       "  <tbody>\n",
       "    <tr>\n",
       "      <th rowspan=\"5\" valign=\"top\">Bitcoin</th>\n",
       "      <th>quote.USD.percent_change_1h</th>\n",
       "      <td>0.09270</td>\n",
       "    </tr>\n",
       "    <tr>\n",
       "      <th>quote.USD.percent_change_24h</th>\n",
       "      <td>-5.92868</td>\n",
       "    </tr>\n",
       "    <tr>\n",
       "      <th>quote.USD.percent_change_7d</th>\n",
       "      <td>-13.31116</td>\n",
       "    </tr>\n",
       "    <tr>\n",
       "      <th>quote.USD.percent_change_30d</th>\n",
       "      <td>-11.00516</td>\n",
       "    </tr>\n",
       "    <tr>\n",
       "      <th>quote.USD.percent_change_60d</th>\n",
       "      <td>-17.80312</td>\n",
       "    </tr>\n",
       "    <tr>\n",
       "      <th>...</th>\n",
       "      <th>...</th>\n",
       "      <td>...</td>\n",
       "    </tr>\n",
       "    <tr>\n",
       "      <th rowspan=\"5\" valign=\"top\">TRON</th>\n",
       "      <th>quote.USD.percent_change_24h</th>\n",
       "      <td>-2.96625</td>\n",
       "    </tr>\n",
       "    <tr>\n",
       "      <th>quote.USD.percent_change_7d</th>\n",
       "      <td>-5.56995</td>\n",
       "    </tr>\n",
       "    <tr>\n",
       "      <th>quote.USD.percent_change_30d</th>\n",
       "      <td>-7.49334</td>\n",
       "    </tr>\n",
       "    <tr>\n",
       "      <th>quote.USD.percent_change_60d</th>\n",
       "      <td>-10.29644</td>\n",
       "    </tr>\n",
       "    <tr>\n",
       "      <th>quote.USD.percent_change_90d</th>\n",
       "      <td>-4.47369</td>\n",
       "    </tr>\n",
       "  </tbody>\n",
       "</table>\n",
       "<p>90 rows × 1 columns</p>\n",
       "</div>"
      ],
      "text/plain": [
       "                                        values\n",
       "name                                          \n",
       "Bitcoin quote.USD.percent_change_1h    0.09270\n",
       "        quote.USD.percent_change_24h  -5.92868\n",
       "        quote.USD.percent_change_7d  -13.31116\n",
       "        quote.USD.percent_change_30d -11.00516\n",
       "        quote.USD.percent_change_60d -17.80312\n",
       "...                                        ...\n",
       "TRON    quote.USD.percent_change_24h  -2.96625\n",
       "        quote.USD.percent_change_7d   -5.56995\n",
       "        quote.USD.percent_change_30d  -7.49334\n",
       "        quote.USD.percent_change_60d -10.29644\n",
       "        quote.USD.percent_change_90d  -4.47369\n",
       "\n",
       "[90 rows x 1 columns]"
      ]
     },
     "execution_count": 10,
     "metadata": {},
     "output_type": "execute_result"
    }
   ],
   "source": [
    "df5 = df4.to_frame(name='values')\n",
    "df5"
   ]
  },
  {
   "cell_type": "code",
   "execution_count": 11,
   "metadata": {},
   "outputs": [
    {
     "data": {
      "text/plain": [
       "values    90\n",
       "dtype: int64"
      ]
     },
     "execution_count": 11,
     "metadata": {},
     "output_type": "execute_result"
    }
   ],
   "source": [
    "df5.count()\n"
   ]
  },
  {
   "cell_type": "code",
   "execution_count": 12,
   "metadata": {},
   "outputs": [
    {
     "data": {
      "text/html": [
       "<div>\n",
       "<style scoped>\n",
       "    .dataframe tbody tr th:only-of-type {\n",
       "        vertical-align: middle;\n",
       "    }\n",
       "\n",
       "    .dataframe tbody tr th {\n",
       "        vertical-align: top;\n",
       "    }\n",
       "\n",
       "    .dataframe thead th {\n",
       "        text-align: right;\n",
       "    }\n",
       "</style>\n",
       "<table border=\"1\" class=\"dataframe\">\n",
       "  <thead>\n",
       "    <tr style=\"text-align: right;\">\n",
       "      <th></th>\n",
       "      <th>name</th>\n",
       "      <th>level_1</th>\n",
       "      <th>values</th>\n",
       "    </tr>\n",
       "  </thead>\n",
       "  <tbody>\n",
       "    <tr>\n",
       "      <th>0</th>\n",
       "      <td>Bitcoin</td>\n",
       "      <td>quote.USD.percent_change_1h</td>\n",
       "      <td>0.09270</td>\n",
       "    </tr>\n",
       "    <tr>\n",
       "      <th>1</th>\n",
       "      <td>Bitcoin</td>\n",
       "      <td>quote.USD.percent_change_24h</td>\n",
       "      <td>-5.92868</td>\n",
       "    </tr>\n",
       "    <tr>\n",
       "      <th>2</th>\n",
       "      <td>Bitcoin</td>\n",
       "      <td>quote.USD.percent_change_7d</td>\n",
       "      <td>-13.31116</td>\n",
       "    </tr>\n",
       "    <tr>\n",
       "      <th>3</th>\n",
       "      <td>Bitcoin</td>\n",
       "      <td>quote.USD.percent_change_30d</td>\n",
       "      <td>-11.00516</td>\n",
       "    </tr>\n",
       "    <tr>\n",
       "      <th>4</th>\n",
       "      <td>Bitcoin</td>\n",
       "      <td>quote.USD.percent_change_60d</td>\n",
       "      <td>-17.80312</td>\n",
       "    </tr>\n",
       "    <tr>\n",
       "      <th>...</th>\n",
       "      <td>...</td>\n",
       "      <td>...</td>\n",
       "      <td>...</td>\n",
       "    </tr>\n",
       "    <tr>\n",
       "      <th>85</th>\n",
       "      <td>TRON</td>\n",
       "      <td>quote.USD.percent_change_24h</td>\n",
       "      <td>-2.96625</td>\n",
       "    </tr>\n",
       "    <tr>\n",
       "      <th>86</th>\n",
       "      <td>TRON</td>\n",
       "      <td>quote.USD.percent_change_7d</td>\n",
       "      <td>-5.56995</td>\n",
       "    </tr>\n",
       "    <tr>\n",
       "      <th>87</th>\n",
       "      <td>TRON</td>\n",
       "      <td>quote.USD.percent_change_30d</td>\n",
       "      <td>-7.49334</td>\n",
       "    </tr>\n",
       "    <tr>\n",
       "      <th>88</th>\n",
       "      <td>TRON</td>\n",
       "      <td>quote.USD.percent_change_60d</td>\n",
       "      <td>-10.29644</td>\n",
       "    </tr>\n",
       "    <tr>\n",
       "      <th>89</th>\n",
       "      <td>TRON</td>\n",
       "      <td>quote.USD.percent_change_90d</td>\n",
       "      <td>-4.47369</td>\n",
       "    </tr>\n",
       "  </tbody>\n",
       "</table>\n",
       "<p>90 rows × 3 columns</p>\n",
       "</div>"
      ],
      "text/plain": [
       "       name                       level_1    values\n",
       "0   Bitcoin   quote.USD.percent_change_1h   0.09270\n",
       "1   Bitcoin  quote.USD.percent_change_24h  -5.92868\n",
       "2   Bitcoin   quote.USD.percent_change_7d -13.31116\n",
       "3   Bitcoin  quote.USD.percent_change_30d -11.00516\n",
       "4   Bitcoin  quote.USD.percent_change_60d -17.80312\n",
       "..      ...                           ...       ...\n",
       "85     TRON  quote.USD.percent_change_24h  -2.96625\n",
       "86     TRON   quote.USD.percent_change_7d  -5.56995\n",
       "87     TRON  quote.USD.percent_change_30d  -7.49334\n",
       "88     TRON  quote.USD.percent_change_60d -10.29644\n",
       "89     TRON  quote.USD.percent_change_90d  -4.47369\n",
       "\n",
       "[90 rows x 3 columns]"
      ]
     },
     "execution_count": 12,
     "metadata": {},
     "output_type": "execute_result"
    }
   ],
   "source": [
    "# Because of how it's structured above we need to set an index. I don't want to pass a column as an index for this dataframe\n",
    "# So I'm going to create a range and pass that as the dataframe. You can make this more dynamic, but I'm just going to hard code it\n",
    "\n",
    "index = pd.Index(range(90))\n",
    "\n",
    "df6 = df5.reset_index()\n",
    "df6"
   ]
  },
  {
   "cell_type": "code",
   "execution_count": 21,
   "metadata": {},
   "outputs": [
    {
     "data": {
      "text/html": [
       "<div>\n",
       "<style scoped>\n",
       "    .dataframe tbody tr th:only-of-type {\n",
       "        vertical-align: middle;\n",
       "    }\n",
       "\n",
       "    .dataframe tbody tr th {\n",
       "        vertical-align: top;\n",
       "    }\n",
       "\n",
       "    .dataframe thead th {\n",
       "        text-align: right;\n",
       "    }\n",
       "</style>\n",
       "<table border=\"1\" class=\"dataframe\">\n",
       "  <thead>\n",
       "    <tr style=\"text-align: right;\">\n",
       "      <th></th>\n",
       "      <th>name</th>\n",
       "      <th>percent_change</th>\n",
       "      <th>values</th>\n",
       "    </tr>\n",
       "  </thead>\n",
       "  <tbody>\n",
       "    <tr>\n",
       "      <th>0</th>\n",
       "      <td>Bitcoin</td>\n",
       "      <td>quote.USD.percent_change_1h</td>\n",
       "      <td>0.09270</td>\n",
       "    </tr>\n",
       "    <tr>\n",
       "      <th>1</th>\n",
       "      <td>Bitcoin</td>\n",
       "      <td>quote.USD.percent_change_24h</td>\n",
       "      <td>-5.92868</td>\n",
       "    </tr>\n",
       "    <tr>\n",
       "      <th>2</th>\n",
       "      <td>Bitcoin</td>\n",
       "      <td>quote.USD.percent_change_7d</td>\n",
       "      <td>-13.31116</td>\n",
       "    </tr>\n",
       "    <tr>\n",
       "      <th>3</th>\n",
       "      <td>Bitcoin</td>\n",
       "      <td>quote.USD.percent_change_30d</td>\n",
       "      <td>-11.00516</td>\n",
       "    </tr>\n",
       "    <tr>\n",
       "      <th>4</th>\n",
       "      <td>Bitcoin</td>\n",
       "      <td>quote.USD.percent_change_60d</td>\n",
       "      <td>-17.80312</td>\n",
       "    </tr>\n",
       "    <tr>\n",
       "      <th>...</th>\n",
       "      <td>...</td>\n",
       "      <td>...</td>\n",
       "      <td>...</td>\n",
       "    </tr>\n",
       "    <tr>\n",
       "      <th>85</th>\n",
       "      <td>TRON</td>\n",
       "      <td>quote.USD.percent_change_24h</td>\n",
       "      <td>-2.96625</td>\n",
       "    </tr>\n",
       "    <tr>\n",
       "      <th>86</th>\n",
       "      <td>TRON</td>\n",
       "      <td>quote.USD.percent_change_7d</td>\n",
       "      <td>-5.56995</td>\n",
       "    </tr>\n",
       "    <tr>\n",
       "      <th>87</th>\n",
       "      <td>TRON</td>\n",
       "      <td>quote.USD.percent_change_30d</td>\n",
       "      <td>-7.49334</td>\n",
       "    </tr>\n",
       "    <tr>\n",
       "      <th>88</th>\n",
       "      <td>TRON</td>\n",
       "      <td>quote.USD.percent_change_60d</td>\n",
       "      <td>-10.29644</td>\n",
       "    </tr>\n",
       "    <tr>\n",
       "      <th>89</th>\n",
       "      <td>TRON</td>\n",
       "      <td>quote.USD.percent_change_90d</td>\n",
       "      <td>-4.47369</td>\n",
       "    </tr>\n",
       "  </tbody>\n",
       "</table>\n",
       "<p>90 rows × 3 columns</p>\n",
       "</div>"
      ],
      "text/plain": [
       "       name                percent_change    values\n",
       "0   Bitcoin   quote.USD.percent_change_1h   0.09270\n",
       "1   Bitcoin  quote.USD.percent_change_24h  -5.92868\n",
       "2   Bitcoin   quote.USD.percent_change_7d -13.31116\n",
       "3   Bitcoin  quote.USD.percent_change_30d -11.00516\n",
       "4   Bitcoin  quote.USD.percent_change_60d -17.80312\n",
       "..      ...                           ...       ...\n",
       "85     TRON  quote.USD.percent_change_24h  -2.96625\n",
       "86     TRON   quote.USD.percent_change_7d  -5.56995\n",
       "87     TRON  quote.USD.percent_change_30d  -7.49334\n",
       "88     TRON  quote.USD.percent_change_60d -10.29644\n",
       "89     TRON  quote.USD.percent_change_90d  -4.47369\n",
       "\n",
       "[90 rows x 3 columns]"
      ]
     },
     "execution_count": 21,
     "metadata": {},
     "output_type": "execute_result"
    }
   ],
   "source": [
    "# Change the column name\n",
    "\n",
    "df7 = df6.rename(columns={'level_1': 'percent_change'})\n",
    "df7"
   ]
  },
  {
   "cell_type": "code",
   "execution_count": 23,
   "metadata": {},
   "outputs": [],
   "source": [
    "df7['percent_change'] = df7['percent_change'].replace(['quote.USD.percent_change_1h', 'quote.USD.percent_change_24h', 'quote.USD.percent_change_7d', 'quote.USD.percent_change_30d', 'quote.USD.percent_change_60d', 'quote.USD.percent_change_90d'], ['1h', '24h', '7d', '30d', '60d', '90d'])"
   ]
  },
  {
   "cell_type": "code",
   "execution_count": 24,
   "metadata": {},
   "outputs": [
    {
     "data": {
      "text/html": [
       "<div>\n",
       "<style scoped>\n",
       "    .dataframe tbody tr th:only-of-type {\n",
       "        vertical-align: middle;\n",
       "    }\n",
       "\n",
       "    .dataframe tbody tr th {\n",
       "        vertical-align: top;\n",
       "    }\n",
       "\n",
       "    .dataframe thead th {\n",
       "        text-align: right;\n",
       "    }\n",
       "</style>\n",
       "<table border=\"1\" class=\"dataframe\">\n",
       "  <thead>\n",
       "    <tr style=\"text-align: right;\">\n",
       "      <th></th>\n",
       "      <th>name</th>\n",
       "      <th>percent_change</th>\n",
       "      <th>values</th>\n",
       "    </tr>\n",
       "  </thead>\n",
       "  <tbody>\n",
       "    <tr>\n",
       "      <th>0</th>\n",
       "      <td>Bitcoin</td>\n",
       "      <td>1h</td>\n",
       "      <td>0.09270</td>\n",
       "    </tr>\n",
       "    <tr>\n",
       "      <th>1</th>\n",
       "      <td>Bitcoin</td>\n",
       "      <td>24h</td>\n",
       "      <td>-5.92868</td>\n",
       "    </tr>\n",
       "    <tr>\n",
       "      <th>2</th>\n",
       "      <td>Bitcoin</td>\n",
       "      <td>7d</td>\n",
       "      <td>-13.31116</td>\n",
       "    </tr>\n",
       "    <tr>\n",
       "      <th>3</th>\n",
       "      <td>Bitcoin</td>\n",
       "      <td>30d</td>\n",
       "      <td>-11.00516</td>\n",
       "    </tr>\n",
       "    <tr>\n",
       "      <th>4</th>\n",
       "      <td>Bitcoin</td>\n",
       "      <td>60d</td>\n",
       "      <td>-17.80312</td>\n",
       "    </tr>\n",
       "    <tr>\n",
       "      <th>...</th>\n",
       "      <td>...</td>\n",
       "      <td>...</td>\n",
       "      <td>...</td>\n",
       "    </tr>\n",
       "    <tr>\n",
       "      <th>85</th>\n",
       "      <td>TRON</td>\n",
       "      <td>24h</td>\n",
       "      <td>-2.96625</td>\n",
       "    </tr>\n",
       "    <tr>\n",
       "      <th>86</th>\n",
       "      <td>TRON</td>\n",
       "      <td>7d</td>\n",
       "      <td>-5.56995</td>\n",
       "    </tr>\n",
       "    <tr>\n",
       "      <th>87</th>\n",
       "      <td>TRON</td>\n",
       "      <td>30d</td>\n",
       "      <td>-7.49334</td>\n",
       "    </tr>\n",
       "    <tr>\n",
       "      <th>88</th>\n",
       "      <td>TRON</td>\n",
       "      <td>60d</td>\n",
       "      <td>-10.29644</td>\n",
       "    </tr>\n",
       "    <tr>\n",
       "      <th>89</th>\n",
       "      <td>TRON</td>\n",
       "      <td>90d</td>\n",
       "      <td>-4.47369</td>\n",
       "    </tr>\n",
       "  </tbody>\n",
       "</table>\n",
       "<p>90 rows × 3 columns</p>\n",
       "</div>"
      ],
      "text/plain": [
       "       name percent_change    values\n",
       "0   Bitcoin             1h   0.09270\n",
       "1   Bitcoin            24h  -5.92868\n",
       "2   Bitcoin             7d -13.31116\n",
       "3   Bitcoin            30d -11.00516\n",
       "4   Bitcoin            60d -17.80312\n",
       "..      ...            ...       ...\n",
       "85     TRON            24h  -2.96625\n",
       "86     TRON             7d  -5.56995\n",
       "87     TRON            30d  -7.49334\n",
       "88     TRON            60d -10.29644\n",
       "89     TRON            90d  -4.47369\n",
       "\n",
       "[90 rows x 3 columns]"
      ]
     },
     "execution_count": 24,
     "metadata": {},
     "output_type": "execute_result"
    }
   ],
   "source": [
    "df7"
   ]
  },
  {
   "cell_type": "code",
   "execution_count": 2,
   "metadata": {},
   "outputs": [],
   "source": [
    "import seaborn as sns\n",
    "import matplotlib.pyplot as plt"
   ]
  },
  {
   "cell_type": "code",
   "execution_count": 25,
   "metadata": {},
   "outputs": [
    {
     "data": {
      "text/plain": [
       "<seaborn.axisgrid.FacetGrid at 0x7fbd11963730>"
      ]
     },
     "execution_count": 25,
     "metadata": {},
     "output_type": "execute_result"
    },
    {
     "data": {
      "image/png": "[encoded data removed]",
      "text/plain": [
       "<Figure size 460.75x360 with 1 Axes>"
      ]
     },
     "metadata": {
      "needs_background": "light"
     },
     "output_type": "display_data"
    }
   ],
   "source": [
    "sns.catplot(x='percent_change', y='values', hue='name', data=df7, kind='point')"
   ]
  },
  {
   "cell_type": "code",
   "execution_count": 28,
   "metadata": {},
   "outputs": [
    {
     "data": {
      "text/html": [
       "<div>\n",
       "<style scoped>\n",
       "    .dataframe tbody tr th:only-of-type {\n",
       "        vertical-align: middle;\n",
       "    }\n",
       "\n",
       "    .dataframe tbody tr th {\n",
       "        vertical-align: top;\n",
       "    }\n",
       "\n",
       "    .dataframe thead th {\n",
       "        text-align: right;\n",
       "    }\n",
       "</style>\n",
       "<table border=\"1\" class=\"dataframe\">\n",
       "  <thead>\n",
       "    <tr style=\"text-align: right;\">\n",
       "      <th></th>\n",
       "      <th>name</th>\n",
       "      <th>quote.USD.price</th>\n",
       "      <th>timestamp</th>\n",
       "    </tr>\n",
       "  </thead>\n",
       "  <tbody>\n",
       "    <tr>\n",
       "      <th>0</th>\n",
       "      <td>Bitcoin</td>\n",
       "      <td>18827.58010</td>\n",
       "      <td>2022-09-18 23:08:12.428982</td>\n",
       "    </tr>\n",
       "    <tr>\n",
       "      <th>15</th>\n",
       "      <td>Bitcoin</td>\n",
       "      <td>18827.58010</td>\n",
       "      <td>2022-09-18 23:08:15.861676</td>\n",
       "    </tr>\n",
       "    <tr>\n",
       "      <th>30</th>\n",
       "      <td>Bitcoin</td>\n",
       "      <td>18827.58010</td>\n",
       "      <td>2022-09-18 23:08:19.103020</td>\n",
       "    </tr>\n",
       "  </tbody>\n",
       "</table>\n",
       "</div>"
      ],
      "text/plain": [
       "       name  quote.USD.price                   timestamp\n",
       "0   Bitcoin      18827.58010  2022-09-18 23:08:12.428982\n",
       "15  Bitcoin      18827.58010  2022-09-18 23:08:15.861676\n",
       "30  Bitcoin      18827.58010  2022-09-18 23:08:19.103020"
      ]
     },
     "execution_count": 28,
     "metadata": {},
     "output_type": "execute_result"
    }
   ],
   "source": [
    "# Now to do something much simpler\n",
    "# we are going to create a dataframe with the columns we want\n",
    "\n",
    "df10 = df72[['name', 'quote.USD.price', 'timestamp']]\n",
    "df10 = df10.query(\"name == 'Bitcoin'\")\n",
    "df10\n"
   ]
  },
  {
   "cell_type": "code",
   "execution_count": 30,
   "metadata": {},
   "outputs": [
    {
     "data": {
      "text/plain": [
       "<AxesSubplot:xlabel='timestamp', ylabel='quote.USD.price'>"
      ]
     },
     "execution_count": 30,
     "metadata": {},
     "output_type": "execute_result"
    },
    {
     "data": {
      "image/png": "[encoded data removed]",
      "text/plain": [
       "<Figure size 432x288 with 1 Axes>"
      ]
     },
     "metadata": {},
     "output_type": "display_data"
    }
   ],
   "source": [
    "sns.set_theme(style='darkgrid')\n",
    "sns.lineplot(x='timestamp', y='quote.USD.price', data = df10)"
   ]
  }
 ],
 "metadata": {
  "kernelspec": {
   "display_name": "Python 3.9.12 ('base')",
   "language": "python",
   "name": "python3"
  },
  "language_info": {
   "codemirror_mode": {
    "name": "ipython",
    "version": 3
   },
   "file_extension": ".py",
   "mimetype": "text/x-python",
   "name": "python",
   "nbconvert_exporter": "python",
   "pygments_lexer": "ipython3",
   "version": "3.9.12"
  },
  "orig_nbformat": 4,
  "vscode": {
   "interpreter": {
    "hash": "40d3a090f54c6569ab1632332b64b2c03c39dcf918b08424e98f38b5ae0af88f"
   }
  }
 },
 "nbformat": 4,
 "nbformat_minor": 2
}
